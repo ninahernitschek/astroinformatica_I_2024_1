{
 "cells": [
  {
   "cell_type": "markdown",
   "metadata": {
    "slideshow": {
     "slide_type": "slide"
    }
   },
   "source": [
    "**Astroinformatica I (Semester 1 2024)**\n",
    "# Tutorial Session 7: Python Astronomical Packages\n",
    "\n",
    "*N. Hernitschek*\n",
    "\n"
   ]
  },
  {
   "cell_type": "markdown",
   "metadata": {},
   "source": [
    "---\n",
    "## Contents\n",
    "* [Celestial Coordinates and Transformations](#first-bullet)\n",
    "* [Altitude of a Target at an Observatory Site](#second-bullet)\n",
    "* [Map Projections](#third-bullet)\n",
    "* [Accessing Gaia Data](#fourth-bullet)\n",
    "* [Best Practices](#fifth-bullet)\n",
    "* [Summary](#sixth-bullet)\n"
   ]
  },
  {
   "cell_type": "markdown",
   "metadata": {},
   "source": [
    "## 1. Celestial Coordinates <a class=\"anchor\" id=\"first-bullet\"></a>\n",
    "\n",
    "\n",
    "`Astropy` includes a `astropy.coordinates`, framework to represent celestial coordinates and transform between them. `Astropy` supports most of the common coordinate systems (ICRS, FK4, FK5, and Galactic, AltAz) and users can define their own systems if needed. The transformation of both individual scalar coordinates and arrays of coordinates is supported.\n",
    "\n",
    "The `astropy.coordinates` documentation can be found here:\n",
    "http://docs.astropy.org/en/stable/coordinates/index.html\n",
    "\n",
    "\n",
    "Coordinate objects are instantiated with a flexible and natural approach that supports both numeric angle values and (limited) string parsing.\n",
    "\n",
    "We start by importing some general packages that we will need later on:"
   ]
  },
  {
   "cell_type": "code",
   "execution_count": null,
   "metadata": {},
   "outputs": [],
   "source": [
    "\n",
    "import matplotlib as mpl\n",
    "import matplotlib.pyplot as plt\n",
    "%matplotlib inline\n",
    "import numpy as np\n",
    "\n",
    "from astropy import units as u\n",
    "from astropy.coordinates import (SkyCoord, Distance, Galactic, \n",
    "                                 EarthLocation, AltAz)\n",
    "import astropy.coordinates as coord\n",
    "from astropy.coordinates import SkyCoord\n",
    "from astropy.io import fits\n",
    "from astropy.table import QTable\n",
    "from astropy.time import Time\n",
    "from astropy.utils.data import download_file\n",
    "\n"
   ]
  },
  {
   "cell_type": "markdown",
   "metadata": {},
   "source": [
    "The individual components of a coordinate are Angle objects, and their values are accessed using special attributes:"
   ]
  },
  {
   "cell_type": "code",
   "execution_count": null,
   "metadata": {},
   "outputs": [],
   "source": [
    "coord_1 = SkyCoord(ra=10.68458, dec=41.26917, unit=(u.degree, u.degree))\n",
    "\n",
    "coord_2 = SkyCoord('00h42m44.3s +41d16m9s')\n",
    "\n",
    "print(coord_1)\n",
    "print(coord_2)\n",
    "print(coord_2.ra)\n",
    "print(coord_2.dec)"
   ]
  },
  {
   "cell_type": "markdown",
   "metadata": {},
   "source": [
    "To **convert** to a different coordinate system, the easiest method is to use attribute-style access with short names for the built-in systems:"
   ]
  },
  {
   "cell_type": "code",
   "execution_count": null,
   "metadata": {},
   "outputs": [],
   "source": [
    "c.galactic\n"
   ]
  },
  {
   "cell_type": "markdown",
   "metadata": {},
   "source": [
    "\n",
    "\n",
    "The astropy.coordinates subpackage also provides a quick way to get **coordinates for named objects** (with an internet connection). All coordinate classes have a special class method, `from_name()`, that accepts a string and queries the service `Sesame` to retrieve coordinates for that object:\n",
    "\n"
   ]
  },
  {
   "cell_type": "code",
   "execution_count": null,
   "metadata": {},
   "outputs": [],
   "source": [
    "m16_coord = SkyCoord.from_name(\"M16\")\n",
    "\n",
    "m16_coord\n"
   ]
  },
  {
   "cell_type": "markdown",
   "metadata": {},
   "source": [
    "**Exercise:** Find the coordinates of the Crab Nebula in ICRS coordinates, and convert them to Galactic Coordinates.\n",
    "\n",
    "    \n",
    "    \n",
    "\n"
   ]
  },
  {
   "cell_type": "markdown",
   "metadata": {},
   "source": [
    "In the following **example**, we see a more complete application of working with coordinates, including a plot.\n",
    "\n",
    "We load the ROSAT Point source catalog (the file is provided with the Jupyter notebook on github).\n",
    "We convert all the equatorial coordinates to Galactic coordinates, and make a plot which we save.\n"
   ]
  },
  {
   "cell_type": "code",
   "execution_count": null,
   "metadata": {},
   "outputs": [],
   "source": [
    "from astropy import units as u\n",
    "from astropy.coordinates import SkyCoord\n",
    "from astropy.table import QTable\n",
    "from matplotlib import pyplot as plt\n",
    "\n",
    "t = QTable.read('rosat.vot', format='votable')\n",
    "\n",
    "eq = SkyCoord(t['RAJ2000'], t['DEJ2000'])\n",
    "gal = eq.galactic\n",
    "\n",
    "fig = plt.figure()\n",
    "ax = fig.add_subplot(1,1,1, aspect='equal')\n",
    "ax.scatter(gal.l, gal.b, s=0.5, color='black')\n",
    "ax.set_xlim(0., 360.)\n",
    "ax.set_ylim(-90., 90.)\n",
    "ax.set_xlabel(\"Galactic Longitude\")\n",
    "ax.set_ylabel(\"Galactic Latitude\")\n",
    "\n",
    "fig.savefig('coord_level2.pdf', bbox_inches='tight')\n",
    "\n"
   ]
  },
  {
   "cell_type": "markdown",
   "metadata": {},
   "source": [
    "## 2. Altitude of a Target at an Observatory Site <a class=\"anchor\" id=\"second-bullet\"></a>\n",
    "\n",
    "Before we have dealt with celestial coordinates of objects from a survey. This is a different use case that is realistic in the case of planning observations: We will compute the altitude (the height) of a target at a given observatory site.\n",
    "\n",
    "When planning observations, we must know whether a given target is observable at all from a given observatory on Earth, or which objects are visible at a given time and place.\n",
    "\n",
    "\n",
    "For doing so, we need to convert a coordinate or set of coordinates to a frame that is local to an on-earth observer. The most common choice for such a frame is \"horizontal\" or **Altitude-Azimuth** coordinates. In this frame, the sky coordinates of a source can be specified as an altitude from the horizon and an azimuth angle at a specified time. This coordinate frame is supported in `astropy.coordinates` through the `AltAz` coordinate frame.\n"
   ]
  },
  {
   "cell_type": "markdown",
   "metadata": {},
   "source": [
    "\n",
    "The AltAz frame is different from the previously-demonstrated Galactic frame in that it requires additional **metadata** to define the frame instance. In order to specify an instance of the `AltAz frame, we have to (at minimum) pass in (1) a location on Earth, and (2) the time (or times) we are requesting the frame at.\n",
    "\n",
    "In `astropy.coordinates`, we specify locations on Earth with the `EarthLocation` class. If we know the Earth longitude and latitude of our site, we can use these to create an instance of `EarthLocation` directly:\n"
   ]
  },
  {
   "cell_type": "code",
   "execution_count": null,
   "metadata": {},
   "outputs": [],
   "source": [
    "demo_loc = EarthLocation.from_geodetic(\n",
    "    lon=-74.32834*u.deg, lat=43.05885*u.deg)\n",
    "\n",
    "\n",
    "demo_loc"
   ]
  },
  {
   "cell_type": "markdown",
   "metadata": {},
   "source": [
    "The `EarthLocation` class also provides handy short-hands for retrieving an instance for a given street address (by querying the OpenStreetMap web API):"
   ]
  },
  {
   "cell_type": "code",
   "execution_count": null,
   "metadata": {},
   "outputs": [],
   "source": [
    "demo_loc = EarthLocation.of_address('Campus Coloso, Antofagasta, Chile')\n",
    "\n",
    "demo_loc"
   ]
  },
  {
   "cell_type": "markdown",
   "metadata": {},
   "source": [
    "We can, of course, also retrieve `EarthLocation` instances for **observatories**.\n",
    "For example, to retrieve an `EarthLocation` instance for the position of Kitt Peak National Observatory (in AZ, USA):\n"
   ]
  },
  {
   "cell_type": "code",
   "execution_count": null,
   "metadata": {},
   "outputs": [],
   "source": [
    "observing_location = EarthLocation.of_site('Kitt Peak')\n",
    "observing_location"
   ]
  },
  {
   "cell_type": "markdown",
   "metadata": {},
   "source": [
    "To get a list of all available observing sites, use `EarthLocation.get_site_names()`:"
   ]
  },
  {
   "cell_type": "code",
   "execution_count": null,
   "metadata": {},
   "outputs": [],
   "source": [
    "EarthLocation.get_site_names()"
   ]
  },
  {
   "cell_type": "markdown",
   "metadata": {},
   "source": [
    "In the following example, we will use Kitt Peak as our site.\n",
    "\n",
    "We will compute the altitude of a few of the Milky Way open clusters from the Cantat-Gaudin et al. 2018 catalog above over the course of a night. The catalog can be found here:\n",
    "\n",
    "https://raw.githubusercontent.com/astropy/astropy-tutorials/main/tutorials/astropy-coordinates/Cantat-Gaudin-open-clusters.ecsv\n",
    "    \n",
    "Please download it before proceeding.    \n"
   ]
  },
  {
   "cell_type": "code",
   "execution_count": null,
   "metadata": {},
   "outputs": [],
   "source": [
    "# load the catalog\n",
    "tbl = QTable.read('Cantat-Gaudin-open-clusters.ecsv')\n"
   ]
  },
  {
   "cell_type": "markdown",
   "metadata": {},
   "source": [
    "We can now pass the coordinate components to `SkyCoord` in order to create a single array-valued `SkyCoord` object to represent the positions of all of the open clusters in this catalog. Note that below we will explicitly specify the coordinate frame using `frame='icrs'`: Even though this is the default frame, it is often better to be explicit so that it is clearer to someone reading the code what the coordinate system is:\n"
   ]
  },
  {
   "cell_type": "code",
   "execution_count": null,
   "metadata": {},
   "outputs": [],
   "source": [
    "open_cluster_c = SkyCoord(\n",
    "    ra=tbl['ra'],\n",
    "    dec=tbl['dec'],\n",
    "    distance=tbl['distance'],\n",
    "    frame='icrs')\n",
    "\n",
    "#get number of stars\n",
    "len(open_cluster_c)"
   ]
  },
  {
   "cell_type": "markdown",
   "metadata": {},
   "source": [
    "We have an object to represent our location on Earth, so now we need to create a set of possible observing times to compute the `AltAz` frame for. `AltAz` expects time information to be passed in as an `astropy.time.Time` object. Let's pretend we have an observing run coming up on Dec 18, 2024, and we would like to compute the altitude/azimuth coordinates for our open clusters over that whole night."
   ]
  },
  {
   "cell_type": "markdown",
   "metadata": {},
   "source": [
    "We use 1AM UTC = 6PM local time (AZ mountain time), roughly the start of a night:"
   ]
  },
  {
   "cell_type": "code",
   "execution_count": null,
   "metadata": {},
   "outputs": [],
   "source": [
    "observing_date = Time('2024-12-18 1:00')\n",
    "\n",
    "\n",
    "# Compute the alt/az over a 14 hour period, starting at 6PM local time,\n",
    "# with 256 equally spaced time points:\n",
    "time_grid = observing_date + np.linspace(0, 14, 256) * u.hour"
   ]
  },
  {
   "cell_type": "markdown",
   "metadata": {},
   "source": [
    "Now we use our location, `observing_location`, and this grid of times, `time_grid`, to create an `AltAz` frame object.\n",
    "\n",
    "**Note:** This frame accepts even more parameters about the atmosphere, which can be used to correct for atmospheric refraction. Despite they can be useful for real observing planning, here we leave those additional parameters set to their defaults, which ignores refraction."
   ]
  },
  {
   "cell_type": "code",
   "execution_count": null,
   "metadata": {},
   "outputs": [],
   "source": [
    "altaz = AltAz(location=observing_location, obstime=time_grid)\n"
   ]
  },
  {
   "cell_type": "markdown",
   "metadata": {},
   "source": [
    "\n",
    "Now we can transform the ICRS SkyCoord positions of the open clusters to `AltAz` to get the location of each of the clusters in the sky over Kitt Peak over a night. Let's first do this only for the first open cluster in the catalog we loaded:"
   ]
  },
  {
   "cell_type": "code",
   "execution_count": null,
   "metadata": {},
   "outputs": [],
   "source": [
    "oc_altaz = open_cluster_c[0].transform_to(altaz)\n",
    "oc_altaz\n"
   ]
  },
  {
   "cell_type": "markdown",
   "metadata": {},
   "source": [
    "\n",
    "There is a lot of information in the representation of our transformed `SkyCoord`, but note that the frame of the new object is now correctly noted as `AltAz`.\n",
    "Like when transforming to Galactic coordinates above, the new `SkyCoord` object now contains the data in a new representation, so the ICRS component names `ra` and `dec` will not work on this new object. Instead, the data (the altitude and azimuth as a function of time) can be accessed with the `alt` and `az` component names. \n",
    "\n",
    "\n",
    "In the following, we plot the altitude of this open cluster over the course of the night:\n"
   ]
  },
  {
   "cell_type": "code",
   "execution_count": null,
   "metadata": {},
   "outputs": [],
   "source": [
    "\n",
    "plt.figure(figsize=(6, 5))\n",
    "plt.plot(time_grid.datetime, oc_altaz.alt.degree, marker='')\n",
    "plt.axhline(0, zorder=-10, linestyle='--', color='tab:red')\n",
    "plt.xlabel('Date/Time [UTC]')\n",
    "plt.ylabel('Altitude [deg]')\n",
    "plt.setp(plt.gca().xaxis.get_majorticklabels(), rotation=45)\n",
    "plt.tight_layout()\n",
    "\n"
   ]
  },
  {
   "cell_type": "markdown",
   "metadata": {},
   "source": [
    "## 3. Map Projections <a class=\"anchor\" id=\"third-bullet\"></a>\n",
    "  \n",
    "    \n",
    "Let's now visualize the sky positions of all of these clusters, colored by their distances. To plot these in an all-sky spherical projection (e.g., `aitoff`or `mollweide`) using `matplotlib`, with longitude increasing to the left as is typically done for plotting astronomical objects on the sky, we have to trick matplotlib a little bit: We have to pass in the negative angle values when plotting, then reformat the tick labels to make them positive values again. We have written a short function below for that. \n",
    "Now we can plot the sky positions by passing our `SkyCoord` object in to this `coordinates_aitoff_plot()` helper function:\n",
    "\n"
   ]
  },
  {
   "cell_type": "code",
   "execution_count": null,
   "metadata": {},
   "outputs": [],
   "source": [
    "def coordinates_aitoff_plot(coords):\n",
    "    fig, ax = plt.subplots(figsize=(10, 4), \n",
    "                           subplot_kw=dict(projection=\"aitoff\"))\n",
    "    \n",
    "    sph = coords.spherical\n",
    "    cs = ax.scatter(-sph.lon.wrap_at(180*u.deg).radian,\n",
    "                    sph.lat.radian,\n",
    "                    c=sph.distance.value)\n",
    "\n",
    "    def fmt_func(x, pos):\n",
    "        val = coord.Angle(-x*u.radian).wrap_at(360*u.deg).degree\n",
    "        return f'${val:.0f}' + r'^{\\circ}$'\n",
    "\n",
    "    ticker = mpl.ticker.FuncFormatter(fmt_func)\n",
    "    ax.xaxis.set_major_formatter(ticker)\n",
    "\n",
    "    ax.grid()\n",
    "    \n",
    "    cb = fig.colorbar(cs)\n",
    "    cb.set_label('distance [pc]')\n",
    "    \n",
    "    return fig, ax\n",
    "\n",
    "\n",
    "\n",
    "fig, ax = coordinates_aitoff_plot(open_cluster_c)\n",
    "ax.set_xlabel('RA [deg]')\n",
    "ax.set_ylabel('Dec [deg]')"
   ]
  },
  {
   "cell_type": "markdown",
   "metadata": {},
   "source": [
    "## 4. Accessing Gaia Data <a class=\"anchor\" id=\"fourth-bullet\"></a>\n",
    "\n",
    "For selecting data from a database, it is necessary to compose a **query**, which is code written in a **query language**. A commonly used query language for databases is SQL (Structured Query Language). We use here ADQL which is a dialect of SQL. ADQL stands for \"Astronomical Data Query Language\".\n",
    "\n",
    "The reference manual for ADQL is here:\n",
    "http://www.ivoa.net/documents/ADQL/20180112/PR-ADQL-2.1-20180112.html\n",
    "\n",
    "An easier introduction might be this, however:\n",
    "https://www.gaia.ac.uk/data/gaia-data-release-1/adql-cookbook\n",
    "\n",
    "\n",
    "\n",
    "For accessing Gaia data, we use `astroquery`.\n",
    "\n",
    "\n",
    "### Connecting to Gaia\n",
    "\n",
    "We can connect to the Gaia database simply like this:\n",
    "\n",
    " "
   ]
  },
  {
   "cell_type": "code",
   "execution_count": 1,
   "metadata": {},
   "outputs": [],
   "source": [
    "from astroquery.gaia import Gaia"
   ]
  },
  {
   "cell_type": "markdown",
   "metadata": {},
   "source": [
    "This import statement creates a TAP+ connection; TAP stands for “Table Access Protocol”, which is a network protocol for sending queries to the database and receiving the results."
   ]
  },
  {
   "cell_type": "markdown",
   "metadata": {},
   "source": [
    "### Working with Tables\n",
    "\n",
    "Before we stark working with databases and tables, it is important to quickly clarify what a database is.\n",
    "\n",
    "Generally, a database can be seen as a collection of data, structured into tables which have columns and rows. Tables can reference to each other, and usually they do so.\n",
    "\n",
    "\n",
    "More specifically, when we are talking about ADQL or SQL:\n",
    "\n",
    "* A database is a collection of one or more named tables.\n",
    "* Each table is a 2-D array with one or more named columns of data.\n",
    "\n",
    "In the following, we use `Gaia.load_tables` to get the names of the tables in the Gaia database. With the option `only_names=True`, it loads information about the tables, called **metadata**, not the data itself.\n"
   ]
  },
  {
   "cell_type": "markdown",
   "metadata": {},
   "source": [
    "\n"
   ]
  },
  {
   "cell_type": "code",
   "execution_count": 2,
   "metadata": {},
   "outputs": [
    {
     "name": "stdout",
     "output_type": "stream",
     "text": [
      "INFO: Retrieving tables... [astroquery.utils.tap.core]\n",
      "INFO: Parsing tables... [astroquery.utils.tap.core]\n",
      "INFO: Done. [astroquery.utils.tap.core]\n"
     ]
    }
   ],
   "source": [
    "tables = Gaia.load_tables(only_names=True)"
   ]
  },
  {
   "cell_type": "markdown",
   "metadata": {},
   "source": [
    "After loading the table information, we have to print it for which we use a `for`loop:\n"
   ]
  },
  {
   "cell_type": "code",
   "execution_count": 3,
   "metadata": {
    "slideshow": {
     "slide_type": "slide"
    }
   },
   "outputs": [
    {
     "name": "stdout",
     "output_type": "stream",
     "text": [
      "external.apassdr9\n",
      "external.catwise2020\n",
      "external.gaiadr2_astrophysical_parameters\n",
      "external.gaiadr2_geometric_distance\n",
      "external.gaiaedr3_distance\n",
      "external.gaiaedr3_gcns_main_1\n",
      "external.gaiaedr3_gcns_rejected_1\n",
      "external.gaiaedr3_spurious\n",
      "external.galex_ais\n",
      "external.ravedr5_com\n",
      "external.ravedr5_dr5\n",
      "external.ravedr5_gra\n",
      "external.ravedr5_on\n",
      "external.ravedr6\n",
      "external.sdssdr13_photoprimary\n",
      "external.skymapperdr1_master\n",
      "external.skymapperdr2_master\n",
      "external.tmass_xsc\n",
      "gaiadr1.aux_qso_icrf2_match\n",
      "gaiadr1.ext_phot_zero_point\n",
      "gaiadr1.allwise_best_neighbour\n",
      "gaiadr1.allwise_neighbourhood\n",
      "gaiadr1.gsc23_best_neighbour\n",
      "gaiadr1.gsc23_neighbourhood\n",
      "gaiadr1.ppmxl_best_neighbour\n",
      "gaiadr1.ppmxl_neighbourhood\n",
      "gaiadr1.sdss_dr9_best_neighbour\n",
      "gaiadr1.sdss_dr9_neighbourhood\n",
      "gaiadr1.tmass_best_neighbour\n",
      "gaiadr1.tmass_neighbourhood\n",
      "gaiadr1.ucac4_best_neighbour\n",
      "gaiadr1.ucac4_neighbourhood\n",
      "gaiadr1.urat1_best_neighbour\n",
      "gaiadr1.urat1_neighbourhood\n",
      "gaiadr1.cepheid\n",
      "gaiadr1.phot_variable_time_series_gfov\n",
      "gaiadr1.phot_variable_time_series_gfov_statistical_parameters\n",
      "gaiadr1.rrlyrae\n",
      "gaiadr1.variable_summary\n",
      "gaiadr1.allwise_original_valid\n",
      "gaiadr1.gsc23_original_valid\n",
      "gaiadr1.ppmxl_original_valid\n",
      "gaiadr1.sdssdr9_original_valid\n",
      "gaiadr1.tmass_original_valid\n",
      "gaiadr1.ucac4_original_valid\n",
      "gaiadr1.urat1_original_valid\n",
      "gaiadr1.gaia_source\n",
      "gaiadr1.tgas_source\n",
      "gaiadr2.aux_allwise_agn_gdr2_cross_id\n",
      "gaiadr2.aux_iers_gdr2_cross_id\n",
      "gaiadr2.aux_sso_orbit_residuals\n",
      "gaiadr2.aux_sso_orbits\n",
      "gaiadr2.dr1_neighbourhood\n",
      "gaiadr2.allwise_best_neighbour\n",
      "gaiadr2.allwise_neighbourhood\n",
      "gaiadr2.apassdr9_best_neighbour\n",
      "gaiadr2.apassdr9_neighbourhood\n",
      "gaiadr2.gsc23_best_neighbour\n",
      "gaiadr2.gsc23_neighbourhood\n",
      "gaiadr2.hipparcos2_best_neighbour\n",
      "gaiadr2.hipparcos2_neighbourhood\n",
      "gaiadr2.panstarrs1_best_neighbour\n",
      "gaiadr2.panstarrs1_neighbourhood\n",
      "gaiadr2.ppmxl_best_neighbour\n",
      "gaiadr2.ppmxl_neighbourhood\n",
      "gaiadr2.ravedr5_best_neighbour\n",
      "gaiadr2.ravedr5_neighbourhood\n",
      "gaiadr2.sdssdr9_best_neighbour\n",
      "gaiadr2.sdssdr9_neighbourhood\n",
      "gaiadr2.tmass_best_neighbour\n",
      "gaiadr2.tmass_neighbourhood\n",
      "gaiadr2.tycho2_best_neighbour\n",
      "gaiadr2.tycho2_neighbourhood\n",
      "gaiadr2.urat1_best_neighbour\n",
      "gaiadr2.urat1_neighbourhood\n",
      "gaiadr2.sso_observation\n",
      "gaiadr2.sso_source\n",
      "gaiadr2.vari_cepheid\n",
      "gaiadr2.vari_classifier_class_definition\n",
      "gaiadr2.vari_classifier_definition\n",
      "gaiadr2.vari_classifier_result\n",
      "gaiadr2.vari_long_period_variable\n",
      "gaiadr2.vari_rotation_modulation\n",
      "gaiadr2.vari_rrlyrae\n",
      "gaiadr2.vari_short_timescale\n",
      "gaiadr2.vari_time_series_statistics\n",
      "gaiadr2.panstarrs1_original_valid\n",
      "gaiadr2.gaia_source\n",
      "gaiadr2.ruwe\n",
      "gaiadr3.gaia_source\n",
      "gaiadr3.gaia_source_lite\n",
      "gaiadr3.astrophysical_parameters\n",
      "gaiadr3.astrophysical_parameters_supp\n",
      "gaiadr3.oa_neuron_information\n",
      "gaiadr3.oa_neuron_xp_spectra\n",
      "gaiadr3.total_galactic_extinction_map\n",
      "gaiadr3.total_galactic_extinction_map_opt\n",
      "gaiadr3.commanded_scan_law\n",
      "gaiadr3.allwise_best_neighbour\n",
      "gaiadr3.allwise_neighbourhood\n",
      "gaiadr3.apassdr9_best_neighbour\n",
      "gaiadr3.apassdr9_join\n",
      "gaiadr3.apassdr9_neighbourhood\n",
      "gaiadr3.dr2_neighbourhood\n",
      "gaiadr3.gsc23_best_neighbour\n",
      "gaiadr3.gsc23_join\n",
      "gaiadr3.gsc23_neighbourhood\n",
      "gaiadr3.hipparcos2_best_neighbour\n",
      "gaiadr3.hipparcos2_neighbourhood\n",
      "gaiadr3.panstarrs1_best_neighbour\n",
      "gaiadr3.panstarrs1_join\n",
      "gaiadr3.panstarrs1_neighbourhood\n",
      "gaiadr3.ravedr5_best_neighbour\n",
      "gaiadr3.ravedr5_join\n",
      "gaiadr3.ravedr5_neighbourhood\n",
      "gaiadr3.ravedr6_best_neighbour\n",
      "gaiadr3.ravedr6_join\n",
      "gaiadr3.ravedr6_neighbourhood\n",
      "gaiadr3.sdssdr13_best_neighbour\n",
      "gaiadr3.sdssdr13_join\n",
      "gaiadr3.sdssdr13_neighbourhood\n",
      "gaiadr3.skymapperdr2_best_neighbour\n",
      "gaiadr3.skymapperdr2_join\n",
      "gaiadr3.skymapperdr2_neighbourhood\n",
      "gaiadr3.tmass_psc_xsc_best_neighbour\n",
      "gaiadr3.tmass_psc_xsc_join\n",
      "gaiadr3.tmass_psc_xsc_neighbourhood\n",
      "gaiadr3.tycho2tdsc_merge_best_neighbour\n",
      "gaiadr3.tycho2tdsc_merge_neighbourhood\n",
      "gaiadr3.urat1_best_neighbour\n",
      "gaiadr3.urat1_neighbourhood\n",
      "gaiadr3.galaxy_candidates\n",
      "gaiadr3.galaxy_catalogue_name\n",
      "gaiadr3.qso_candidates\n",
      "gaiadr3.qso_catalogue_name\n",
      "gaiadr3.nss_acceleration_astro\n",
      "gaiadr3.nss_non_linear_spectro\n",
      "gaiadr3.nss_two_body_orbit\n",
      "gaiadr3.nss_vim_fl\n",
      "gaiadr3.binary_masses\n",
      "gaiadr3.chemical_cartography\n",
      "gaiadr3.gold_sample_carbon_stars\n",
      "gaiadr3.gold_sample_fgkm_stars\n",
      "gaiadr3.gold_sample_oba_stars\n",
      "gaiadr3.gold_sample_solar_analogues\n",
      "gaiadr3.gold_sample_spss\n",
      "gaiadr3.gold_sample_ucd\n",
      "gaiadr3.sso_orbits\n",
      "gaiadr3.synthetic_photometry_gspc\n",
      "gaiadr3.vari_spurious_signals\n",
      "gaiadr3.agn_cross_id\n",
      "gaiadr3.frame_rotator_source\n",
      "gaiadr3.gaia_crf3_xm\n",
      "gaiadr3.alerts_mixedin_sourceids\n",
      "gaiadr3.science_alerts\n",
      "gaiadr3.gaia_source_simulation\n",
      "gaiadr3.gaia_universe_model\n",
      "gaiadr3.sso_observation\n",
      "gaiadr3.sso_reflectance_spectrum\n",
      "gaiadr3.sso_source\n",
      "gaiadr3.xp_summary\n",
      "gaiadr3.vari_agn\n",
      "gaiadr3.vari_cepheid\n",
      "gaiadr3.vari_classifier_class_definition\n",
      "gaiadr3.vari_classifier_definition\n",
      "gaiadr3.vari_classifier_result\n",
      "gaiadr3.vari_compact_companion\n",
      "gaiadr3.vari_eclipsing_binary\n",
      "gaiadr3.vari_epoch_radial_velocity\n",
      "gaiadr3.vari_long_period_variable\n",
      "gaiadr3.vari_microlensing\n",
      "gaiadr3.vari_ms_oscillator\n",
      "gaiadr3.vari_planetary_transit\n",
      "gaiadr3.vari_planetary_transit_13june2022\n",
      "gaiadr3.vari_rad_vel_statistics\n",
      "gaiadr3.vari_rotation_modulation\n",
      "gaiadr3.vari_rrlyrae\n",
      "gaiadr3.vari_short_timescale\n",
      "gaiadr3.vari_summary\n",
      "gaiadr3.tycho2tdsc_merge\n",
      "gaiaedr3.gaia_source\n",
      "gaiaedr3.agn_cross_id\n",
      "gaiaedr3.commanded_scan_law\n",
      "gaiaedr3.dr2_neighbourhood\n",
      "gaiaedr3.frame_rotator_source\n",
      "gaiaedr3.allwise_best_neighbour\n",
      "gaiaedr3.allwise_neighbourhood\n",
      "gaiaedr3.apassdr9_best_neighbour\n",
      "gaiaedr3.apassdr9_join\n",
      "gaiaedr3.apassdr9_neighbourhood\n",
      "gaiaedr3.gsc23_best_neighbour\n",
      "gaiaedr3.gsc23_join\n",
      "gaiaedr3.gsc23_neighbourhood\n",
      "gaiaedr3.hipparcos2_best_neighbour\n",
      "gaiaedr3.hipparcos2_neighbourhood\n",
      "gaiaedr3.panstarrs1_best_neighbour\n",
      "gaiaedr3.panstarrs1_join\n",
      "gaiaedr3.panstarrs1_neighbourhood\n",
      "gaiaedr3.ravedr5_best_neighbour\n",
      "gaiaedr3.ravedr5_join\n",
      "gaiaedr3.ravedr5_neighbourhood\n",
      "gaiaedr3.sdssdr13_best_neighbour\n",
      "gaiaedr3.sdssdr13_join\n",
      "gaiaedr3.sdssdr13_neighbourhood\n",
      "gaiaedr3.skymapperdr2_best_neighbour\n",
      "gaiaedr3.skymapperdr2_join\n",
      "gaiaedr3.skymapperdr2_neighbourhood\n",
      "gaiaedr3.tmass_psc_xsc_best_neighbour\n",
      "gaiaedr3.tmass_psc_xsc_join\n",
      "gaiaedr3.tmass_psc_xsc_neighbourhood\n",
      "gaiaedr3.tycho2tdsc_merge_best_neighbour\n",
      "gaiaedr3.tycho2tdsc_merge_neighbourhood\n",
      "gaiaedr3.urat1_best_neighbour\n",
      "gaiaedr3.urat1_neighbourhood\n",
      "gaiaedr3.gaia_source_simulation\n",
      "gaiaedr3.gaia_universe_model\n",
      "gaiaedr3.tycho2tdsc_merge\n",
      "gaiafpr.crowded_field_source\n",
      "gaiafpr.lens_candidates\n",
      "gaiafpr.lens_catalogue_name\n",
      "gaiafpr.lens_observation\n",
      "gaiafpr.lens_outlier\n",
      "gaiafpr.sso_observation\n",
      "gaiafpr.sso_source\n",
      "gaiafpr.interstellar_medium_params\n",
      "gaiafpr.interstellar_medium_spectra\n",
      "gaiafpr.vari_epoch_radial_velocity\n",
      "gaiafpr.vari_long_period_variable\n",
      "gaiafpr.vari_rad_vel_statistics\n",
      "public.hipparcos\n",
      "public.hipparcos_newreduction\n",
      "public.hubble_sc\n",
      "public.igsl_source\n",
      "public.igsl_source_catalog_ids\n",
      "public.tycho2\n",
      "public.dual\n",
      "tap_config.coord_sys\n",
      "tap_config.properties\n",
      "tap_schema.columns\n",
      "tap_schema.key_columns\n",
      "tap_schema.keys\n",
      "tap_schema.schemas\n",
      "tap_schema.tables\n"
     ]
    }
   ],
   "source": [
    "for table in tables:\n",
    "    print(table.name)\n"
   ]
  },
  {
   "cell_type": "markdown",
   "metadata": {},
   "source": [
    "We see that there are a lot of tables. We will not use all of them, however. \n",
    "\n",
    "The ones we will use in the following are:\n",
    "\n",
    "\n",
    "* `gaiadr2.gaia_source`, which contains Gaia data from data release 2\n",
    "\n",
    "* `gaiadr2.panstarrs1_original_valid`, which contains photometry data from PanSTARRS\n",
    "\n",
    "* `gaiadr2.panstarrs1_best_neighbour`, which we will use to cross-match each star observed by Gaia with the same star observed by PanSTARRS\n",
    "\n",
    "We can use `load_table` (note: this is different from `load_tables`) to retieve the metadata for a single table."
   ]
  },
  {
   "cell_type": "code",
   "execution_count": 4,
   "metadata": {},
   "outputs": [
    {
     "name": "stdout",
     "output_type": "stream",
     "text": [
      "Retrieving table 'gaiadr2.gaia_source'\n"
     ]
    },
    {
     "data": {
      "text/plain": [
       "<astroquery.utils.tap.model.taptable.TapTableMeta at 0x7f874b5cac20>"
      ]
     },
     "execution_count": 4,
     "metadata": {},
     "output_type": "execute_result"
    }
   ],
   "source": [
    "meta = Gaia.load_table('gaiadr2.gaia_source')\n",
    "meta"
   ]
  },
  {
   "cell_type": "markdown",
   "metadata": {},
   "source": [
    "We see that the result is an object of type `TapTableMeta`.\n",
    "To see its actual content, the metadata, we have to use `print`:\n"
   ]
  },
  {
   "cell_type": "code",
   "execution_count": 7,
   "metadata": {},
   "outputs": [
    {
     "name": "stdout",
     "output_type": "stream",
     "text": [
      "TAP Table name: gaiadr2.gaiadr2.gaia_source\n",
      "Description: This table has an entry for every Gaia observed source as listed in the\n",
      "Main Database accumulating catalogue version from which the catalogue\n",
      "release has been generated. It contains the basic source parameters,\n",
      "that is only final data (no epoch data) and no spectra (neither final\n",
      "nor epoch).\n",
      "Num. columns: 96\n",
      "solution_id\n",
      "designation\n",
      "source_id\n",
      "random_index\n",
      "ref_epoch\n",
      "ra\n",
      "ra_error\n",
      "dec\n",
      "dec_error\n",
      "parallax\n",
      "parallax_error\n",
      "parallax_over_error\n",
      "pmra\n",
      "pmra_error\n",
      "pmdec\n",
      "pmdec_error\n",
      "ra_dec_corr\n",
      "ra_parallax_corr\n",
      "ra_pmra_corr\n",
      "ra_pmdec_corr\n",
      "dec_parallax_corr\n",
      "dec_pmra_corr\n",
      "dec_pmdec_corr\n",
      "parallax_pmra_corr\n",
      "parallax_pmdec_corr\n",
      "pmra_pmdec_corr\n",
      "astrometric_n_obs_al\n",
      "astrometric_n_obs_ac\n",
      "astrometric_n_good_obs_al\n",
      "astrometric_n_bad_obs_al\n",
      "astrometric_gof_al\n",
      "astrometric_chi2_al\n",
      "astrometric_excess_noise\n",
      "astrometric_excess_noise_sig\n",
      "astrometric_params_solved\n",
      "astrometric_primary_flag\n",
      "astrometric_weight_al\n",
      "astrometric_pseudo_colour\n",
      "astrometric_pseudo_colour_error\n",
      "mean_varpi_factor_al\n",
      "astrometric_matched_observations\n",
      "visibility_periods_used\n",
      "astrometric_sigma5d_max\n",
      "frame_rotator_object_type\n",
      "matched_observations\n",
      "duplicated_source\n",
      "phot_g_n_obs\n",
      "phot_g_mean_flux\n",
      "phot_g_mean_flux_error\n",
      "phot_g_mean_flux_over_error\n",
      "phot_g_mean_mag\n",
      "phot_bp_n_obs\n",
      "phot_bp_mean_flux\n",
      "phot_bp_mean_flux_error\n",
      "phot_bp_mean_flux_over_error\n",
      "phot_bp_mean_mag\n",
      "phot_rp_n_obs\n",
      "phot_rp_mean_flux\n",
      "phot_rp_mean_flux_error\n",
      "phot_rp_mean_flux_over_error\n",
      "phot_rp_mean_mag\n",
      "phot_bp_rp_excess_factor\n",
      "phot_proc_mode\n",
      "bp_rp\n",
      "bp_g\n",
      "g_rp\n",
      "radial_velocity\n",
      "radial_velocity_error\n",
      "rv_nb_transits\n",
      "rv_template_teff\n",
      "rv_template_logg\n",
      "rv_template_fe_h\n",
      "phot_variable_flag\n",
      "l\n",
      "b\n",
      "ecl_lon\n",
      "ecl_lat\n",
      "priam_flags\n",
      "teff_val\n",
      "teff_percentile_lower\n",
      "teff_percentile_upper\n",
      "a_g_val\n",
      "a_g_percentile_lower\n",
      "a_g_percentile_upper\n",
      "e_bp_min_rp_val\n",
      "e_bp_min_rp_percentile_lower\n",
      "e_bp_min_rp_percentile_upper\n",
      "flame_flags\n",
      "radius_val\n",
      "radius_percentile_lower\n",
      "radius_percentile_upper\n",
      "lum_val\n",
      "lum_percentile_lower\n",
      "lum_percentile_upper\n",
      "datalink_url\n",
      "epoch_photometry_url\n"
     ]
    }
   ],
   "source": [
    "print(meta)\n",
    "\n",
    "for column in meta.columns:\n",
    "    print(column.name)\n",
    "    "
   ]
  },
  {
   "cell_type": "markdown",
   "metadata": {},
   "source": [
    "**Exercise:** Get the metadata for the other tables that we will use.\n"
   ]
  },
  {
   "cell_type": "code",
   "execution_count": null,
   "metadata": {},
   "outputs": [],
   "source": [
    "\n",
    "\n"
   ]
  },
  {
   "cell_type": "markdown",
   "metadata": {},
   "source": [
    "### Writing queries\n",
    "\n",
    "What we have not done yet is actually downloading the tables. We have only downloaded metadata so far.\n",
    "\n",
    "With tables of that size, generally not the complete table is downloaded, but the queries are used to only download the data you are interested in (instead of downloading everything and then applying some data selection).\n",
    "\n",
    "Here is an example of an ADQL query:"
   ]
  },
  {
   "cell_type": "code",
   "execution_count": 8,
   "metadata": {},
   "outputs": [],
   "source": [
    "query1 = \"\"\"SELECT \n",
    "TOP 10\n",
    "source_id, ra, dec, parallax \n",
    "FROM gaiadr2.gaia_source\n",
    "\"\"\""
   ]
  },
  {
   "cell_type": "markdown",
   "metadata": {},
   "source": [
    "The query written as a **triple-quoted string** so we can include line breaks in the query, which makes it easier to read.\n",
    "\n",
    "The words in uppercase are ADQL keywords:\n",
    "\n",
    "* `SELECT` indicates that we are selecting data (as opposed to adding or modifying data).\n",
    "* `TOP indicates that we only want the first 10 rows of the table, which is useful for testing a query before asking for all of the data.\n",
    "* `FROM specifies which table we want data from.\n",
    "\n",
    "The third line is a list of column names, indicating which columns we want.\n",
    "\n",
    "In this example, the keywords are capitalized and the column names are lowercase. Despite this is a common style, it is not required as ADQL and SQL are not case-sensitive.\n",
    "\n",
    "Also, the query is broken into multiple lines to make it more readable. This is a common style, but not required, as line breaks are not affecting the behavior of the query.\n",
    "\n",
    "\n",
    "To run this query, we use the `Gaia` object, which represents our connection to the Gaia database, and invoke `launch_job`:\n",
    "\n"
   ]
  },
  {
   "cell_type": "code",
   "execution_count": 9,
   "metadata": {},
   "outputs": [
    {
     "data": {
      "text/plain": [
       "<astroquery.utils.tap.model.job.Job at 0x7f8759dad960>"
      ]
     },
     "execution_count": 9,
     "metadata": {},
     "output_type": "execute_result"
    }
   ],
   "source": [
    "job = Gaia.launch_job(query1)\n",
    "job"
   ]
  },
  {
   "cell_type": "markdown",
   "metadata": {},
   "source": [
    "The result is an object that represents the job running on a Gaia server.\n",
    "You can access the metadata by printing it:\n",
    "    "
   ]
  },
  {
   "cell_type": "code",
   "execution_count": 10,
   "metadata": {},
   "outputs": [
    {
     "name": "stdout",
     "output_type": "stream",
     "text": [
      "<Table length=10>\n",
      "   name    dtype  unit                            description                             n_bad\n",
      "--------- ------- ---- ------------------------------------------------------------------ -----\n",
      "source_id   int64      Unique source identifier (unique within a particular Data Release)     0\n",
      "       ra float64  deg                                                    Right ascension     0\n",
      "      dec float64  deg                                                        Declination     0\n",
      " parallax float64  mas                                                           Parallax     2\n",
      "Jobid: None\n",
      "Phase: COMPLETED\n",
      "Owner: None\n",
      "Output file: 1703178969926O-result.vot.gz\n",
      "Results: None\n"
     ]
    }
   ],
   "source": [
    "print(job)"
   ]
  },
  {
   "cell_type": "markdown",
   "metadata": {},
   "source": [
    "A comment here: Don't worry about the line `Results: None`. That does not actually mean there are no results.\n",
    "\n",
    "However, `Phase: COMPLETED` indicates that the job is complete\n",
    "    \n",
    "We can get the results like this:"
   ]
  },
  {
   "cell_type": "code",
   "execution_count": 12,
   "metadata": {},
   "outputs": [
    {
     "data": {
      "text/plain": [
       "astropy.table.table.Table"
      ]
     },
     "execution_count": 12,
     "metadata": {},
     "output_type": "execute_result"
    }
   ],
   "source": [
    "results = job.get_results()\n",
    "type(results)"
   ]
  },
  {
   "cell_type": "markdown",
   "metadata": {},
   "source": [
    "The `type function indicates that the result is an Astropy Table.\n",
    "\n",
    "An Astropy Table is similar to a table in an SQL database, with a few differences:\n",
    "\n",
    "* SQL databases are stored somewhere, so they are persistent. An Astropy Table is stored in memory; it disappears when you turn off the computer (or shut down this Jupyter notebook).\n",
    "\n",
    "* SQL databases are designed to process queries. An Astropy Table can perform some query-like operations, like selecting columns and rows. But these operations use Python syntax, not SQL.\n",
    "\n",
    "\n",
    "In the following, we will display the contents of the table:\n",
    "\n",
    "\n"
   ]
  },
  {
   "cell_type": "code",
   "execution_count": 13,
   "metadata": {},
   "outputs": [
    {
     "data": {
      "text/html": [
       "<div><i>Table length=10</i>\n",
       "<table id=\"table140219982526640\" class=\"table-striped table-bordered table-condensed\">\n",
       "<thead><tr><th>source_id</th><th>ra</th><th>dec</th><th>parallax</th></tr></thead>\n",
       "<thead><tr><th></th><th>deg</th><th>deg</th><th>mas</th></tr></thead>\n",
       "<thead><tr><th>int64</th><th>float64</th><th>float64</th><th>float64</th></tr></thead>\n",
       "<tr><td>6003867407926739456</td><td>229.24758693475437</td><td>-43.16625918475101</td><td>0.05337544640744751</td></tr>\n",
       "<tr><td>6003867476646222720</td><td>229.27306373437722</td><td>-43.15186079086367</td><td>--</td></tr>\n",
       "<tr><td>6003862593274134272</td><td>229.3240572514041</td><td>-43.30003699919699</td><td>0.2910314419482718</td></tr>\n",
       "<tr><td>6003859986228465536</td><td>227.8416395835098</td><td>-41.90818099326277</td><td>--</td></tr>\n",
       "<tr><td>6003875581255862912</td><td>229.36961431833257</td><td>-43.03090376178989</td><td>-0.21654434890941276</td></tr>\n",
       "<tr><td>6003855794347089280</td><td>227.8787501383429</td><td>-42.0304574241058</td><td>0.5714909134248712</td></tr>\n",
       "<tr><td>6003880013661767680</td><td>229.09787222898308</td><td>-43.14185448285732</td><td>0.1649270591240445</td></tr>\n",
       "<tr><td>6003864964096236160</td><td>229.38597602489725</td><td>-43.19593891106351</td><td>-0.10824132246034551</td></tr>\n",
       "<tr><td>6003863452267599360</td><td>229.43070771018938</td><td>-43.293186721356236</td><td>-0.7520271427356142</td></tr>\n",
       "<tr><td>6003882526223613696</td><td>229.16484355674228</td><td>-43.0038650003512</td><td>0.18630754942153394</td></tr>\n",
       "</table></div>"
      ],
      "text/plain": [
       "<Table length=10>\n",
       "     source_id              ra                 dec               parallax      \n",
       "                           deg                 deg                 mas         \n",
       "       int64             float64             float64             float64       \n",
       "------------------- ------------------ ------------------- --------------------\n",
       "6003867407926739456 229.24758693475437  -43.16625918475101  0.05337544640744751\n",
       "6003867476646222720 229.27306373437722  -43.15186079086367                   --\n",
       "6003862593274134272  229.3240572514041  -43.30003699919699   0.2910314419482718\n",
       "6003859986228465536  227.8416395835098  -41.90818099326277                   --\n",
       "6003875581255862912 229.36961431833257  -43.03090376178989 -0.21654434890941276\n",
       "6003855794347089280  227.8787501383429   -42.0304574241058   0.5714909134248712\n",
       "6003880013661767680 229.09787222898308  -43.14185448285732   0.1649270591240445\n",
       "6003864964096236160 229.38597602489725  -43.19593891106351 -0.10824132246034551\n",
       "6003863452267599360 229.43070771018938 -43.293186721356236  -0.7520271427356142\n",
       "6003882526223613696 229.16484355674228   -43.0038650003512  0.18630754942153394"
      ]
     },
     "execution_count": 13,
     "metadata": {},
     "output_type": "execute_result"
    }
   ],
   "source": [
    "results"
   ]
  },
  {
   "cell_type": "markdown",
   "metadata": {},
   "source": [
    "Each column has a name, units, and a data type.\n",
    "\n",
    "For example, the units of `ra` and `dec` are degrees (`deg`), and their data type is `float64`, which is a 64-bit floating-point number, used to store measurements with a fraction part.\n",
    "\n",
    "This information comes from the Gaia database, and has been stored in the Astropy Table by Astroquery.\n",
    "\n",
    "\n",
    "The documentation of this table can be found here:\n",
    "https://gea.esac.esa.int/archive/documentation/GDR2/Gaia_archive/chap_datamodel/sec_dm_main_tables/ssec_dm_gaia_source.html\n",
    "        "
   ]
  },
  {
   "cell_type": "markdown",
   "metadata": {},
   "source": [
    "### Asynchronous queries\n",
    "\n",
    "`launch_job` asks the server to run the job \"synchronously\", which normally means it runs immediately. But synchronous jobs are limited to 2000 rows. For queries that return more rows, you should run \"asynchronously\", which mean they might take longer to get started.\n",
    "\n",
    "Often you will not be sure how many rows a query will return. Fo this, you can use the SQL command `COUNT to find out how many rows are in the result without actually returning them.\n",
    "\n",
    "After executing an asynchronous query, the results are stored in a file on the server where they are kept for three days (or longer with an account).\n",
    "\n",
    "\n",
    "In the following, as an example we make a query similar to `query1`, but with a few modifications:\n",
    "\n",
    "* It selects the first 3000 rows, so it is bigger than we should run synchronously.\n",
    "\n",
    "* It selects two additional columns, `pmra` and `pmdec`, which are proper motions along the axes of ra and dec.\n",
    "\n",
    "* A new keyword is introduced: `WHERE`.\n"
   ]
  },
  {
   "cell_type": "code",
   "execution_count": 14,
   "metadata": {},
   "outputs": [],
   "source": [
    "query2 = \"\"\"SELECT \n",
    "TOP 3000\n",
    "source_id, ra, dec, pmra, pmdec, parallax\n",
    "FROM gaiadr2.gaia_source\n",
    "WHERE parallax < 1\n",
    "\"\"\""
   ]
  },
  {
   "cell_type": "markdown",
   "metadata": {},
   "source": [
    "A `WHERE` clause indicates which rows we want to select. In this example, the query selects only rows where parallax is less than 1. This has the effect of selecting stars with relatively low parallax, which are farther away. We use this clause to exclude nearby stars that are unlikely to be part of GD-1.\n",
    "\n",
    "`WHERE` is one of the most common clauses in ADQL/SQL, and one of the most useful, because it allows us to download only the rows we need from the database.\n",
    "\n",
    "We use then `launch_job_async` to submit the query as an asynchronous query."
   ]
  },
  {
   "cell_type": "code",
   "execution_count": 15,
   "metadata": {},
   "outputs": [
    {
     "name": "stdout",
     "output_type": "stream",
     "text": [
      "INFO: Query finished. [astroquery.utils.tap.core]\n"
     ]
    },
    {
     "data": {
      "text/plain": [
       "<astroquery.utils.tap.model.job.Job at 0x7f87802de440>"
      ]
     },
     "execution_count": 15,
     "metadata": {},
     "output_type": "execute_result"
    }
   ],
   "source": [
    "job = Gaia.launch_job_async(query2)\n",
    "job\n"
   ]
  },
  {
   "cell_type": "markdown",
   "metadata": {},
   "source": [
    "And here are the results."
   ]
  },
  {
   "cell_type": "code",
   "execution_count": 16,
   "metadata": {},
   "outputs": [
    {
     "data": {
      "text/html": [
       "<div><i>Table length=3000</i>\n",
       "<table id=\"table140219056988576\" class=\"table-striped table-bordered table-condensed\">\n",
       "<thead><tr><th>source_id</th><th>ra</th><th>dec</th><th>pmra</th><th>pmdec</th><th>parallax</th></tr></thead>\n",
       "<thead><tr><th></th><th>deg</th><th>deg</th><th>mas / yr</th><th>mas / yr</th><th>mas</th></tr></thead>\n",
       "<thead><tr><th>int64</th><th>float64</th><th>float64</th><th>float64</th><th>float64</th><th>float64</th></tr></thead>\n",
       "<tr><td>6003867407926739456</td><td>229.24758693475437</td><td>-43.16625918475101</td><td>-3.9049079044132275</td><td>-3.422843525415794</td><td>0.05337544640744751</td></tr>\n",
       "<tr><td>6003862593274134272</td><td>229.3240572514041</td><td>-43.30003699919699</td><td>-0.22955735153158047</td><td>-0.9573006030523264</td><td>0.2910314419482718</td></tr>\n",
       "<tr><td>6003875581255862912</td><td>229.36961431833257</td><td>-43.03090376178989</td><td>-1.5247425988530106</td><td>-3.753223250404989</td><td>-0.21654434890941276</td></tr>\n",
       "<tr><td>6003855794347089280</td><td>227.8787501383429</td><td>-42.0304574241058</td><td>-6.2945330129631</td><td>-7.315154180715561</td><td>0.5714909134248712</td></tr>\n",
       "<tr><td>6003880013661767680</td><td>229.09787222898308</td><td>-43.14185448285732</td><td>-7.7266148254774345</td><td>-5.5070759763662265</td><td>0.1649270591240445</td></tr>\n",
       "<tr><td>6003864964096236160</td><td>229.38597602489725</td><td>-43.19593891106351</td><td>-1.8721997950809894</td><td>-2.7949125414475304</td><td>-0.10824132246034551</td></tr>\n",
       "<tr><td>6003863452267599360</td><td>229.43070771018938</td><td>-43.293186721356236</td><td>-2.000916932184583</td><td>-3.4138337304921507</td><td>-0.7520271427356142</td></tr>\n",
       "<tr><td>6003882526223613696</td><td>229.16484355674228</td><td>-43.0038650003512</td><td>-2.6359111543799414</td><td>-1.6866297327050366</td><td>0.18630754942153394</td></tr>\n",
       "<tr><td>6003866579003940096</td><td>229.26086330590024</td><td>-43.19788846601107</td><td>-4.7560742261234505</td><td>-4.194178687550287</td><td>0.37909391434721096</td></tr>\n",
       "<tr><td>6003884931394538752</td><td>229.06612564541248</td><td>-42.98700369253328</td><td>-2.19026412081575</td><td>-7.092835126702379</td><td>-0.6693156171278136</td></tr>\n",
       "<tr><td>...</td><td>...</td><td>...</td><td>...</td><td>...</td><td>...</td></tr>\n",
       "<tr><td>4144481163936971776</td><td>268.9777484128916</td><td>-17.615767930563578</td><td>-3.9350954325746663</td><td>-5.370675284382489</td><td>0.3292270536740055</td></tr>\n",
       "<tr><td>4150343274560977664</td><td>270.75961959849275</td><td>-12.780118097949044</td><td>-4.2185360019522875</td><td>0.4364044266854371</td><td>0.6550919788068258</td></tr>\n",
       "<tr><td>4150359462292975744</td><td>269.4598560265734</td><td>-13.581152933075247</td><td>-3.6816229007629744</td><td>-4.6897000893451235</td><td>0.2618111512445049</td></tr>\n",
       "<tr><td>4150378188398199936</td><td>269.42870832956356</td><td>-13.380981453828792</td><td>-0.6434038671051288</td><td>-5.179900683338013</td><td>0.2755307735665617</td></tr>\n",
       "<tr><td>4150353655544519936</td><td>269.2849119272715</td><td>-13.711397572153809</td><td>-1.0932530548759516</td><td>-1.2971922597796013</td><td>0.4472171014058958</td></tr>\n",
       "<tr><td>4150349669765356928</td><td>269.26786427317353</td><td>-13.806605097159611</td><td>-3.9467030710574824</td><td>-6.798557102481703</td><td>0.7277696372850622</td></tr>\n",
       "<tr><td>4150366398669624576</td><td>269.0985739248874</td><td>-13.68067502418378</td><td>-1.4867925644182218</td><td>-5.662065282602578</td><td>0.08900969709768984</td></tr>\n",
       "<tr><td>4150348531605224832</td><td>269.2935806133996</td><td>-13.85298122289925</td><td>-1.1198501229015163</td><td>-4.0542893716753605</td><td>0.4481019617459442</td></tr>\n",
       "<tr><td>4150377879113471488</td><td>269.44596151182793</td><td>-13.402757781543043</td><td>-2.1301611165739374</td><td>-4.9579679292971095</td><td>0.4073230672830835</td></tr>\n",
       "<tr><td>4150334993864716416</td><td>270.6269860649764</td><td>-12.909479355615359</td><td>-0.8210912912929142</td><td>-4.018306282863701</td><td>0.0941558401274212</td></tr>\n",
       "</table></div>"
      ],
      "text/plain": [
       "<Table length=3000>\n",
       "     source_id              ra                 dec         ...        pmdec              parallax      \n",
       "                           deg                 deg         ...       mas / yr              mas         \n",
       "       int64             float64             float64       ...       float64             float64       \n",
       "------------------- ------------------ ------------------- ... ------------------- --------------------\n",
       "6003867407926739456 229.24758693475437  -43.16625918475101 ...  -3.422843525415794  0.05337544640744751\n",
       "6003862593274134272  229.3240572514041  -43.30003699919699 ... -0.9573006030523264   0.2910314419482718\n",
       "6003875581255862912 229.36961431833257  -43.03090376178989 ...  -3.753223250404989 -0.21654434890941276\n",
       "6003855794347089280  227.8787501383429   -42.0304574241058 ...  -7.315154180715561   0.5714909134248712\n",
       "6003880013661767680 229.09787222898308  -43.14185448285732 ... -5.5070759763662265   0.1649270591240445\n",
       "6003864964096236160 229.38597602489725  -43.19593891106351 ... -2.7949125414475304 -0.10824132246034551\n",
       "6003863452267599360 229.43070771018938 -43.293186721356236 ... -3.4138337304921507  -0.7520271427356142\n",
       "6003882526223613696 229.16484355674228   -43.0038650003512 ... -1.6866297327050366  0.18630754942153394\n",
       "6003866579003940096 229.26086330590024  -43.19788846601107 ...  -4.194178687550287  0.37909391434721096\n",
       "6003884931394538752 229.06612564541248  -42.98700369253328 ...  -7.092835126702379  -0.6693156171278136\n",
       "                ...                ...                 ... ...                 ...                  ...\n",
       "4144481163936971776  268.9777484128916 -17.615767930563578 ...  -5.370675284382489   0.3292270536740055\n",
       "4150343274560977664 270.75961959849275 -12.780118097949044 ...  0.4364044266854371   0.6550919788068258\n",
       "4150359462292975744  269.4598560265734 -13.581152933075247 ... -4.6897000893451235   0.2618111512445049\n",
       "4150378188398199936 269.42870832956356 -13.380981453828792 ...  -5.179900683338013   0.2755307735665617\n",
       "4150353655544519936  269.2849119272715 -13.711397572153809 ... -1.2971922597796013   0.4472171014058958\n",
       "4150349669765356928 269.26786427317353 -13.806605097159611 ...  -6.798557102481703   0.7277696372850622\n",
       "4150366398669624576  269.0985739248874  -13.68067502418378 ...  -5.662065282602578  0.08900969709768984\n",
       "4150348531605224832  269.2935806133996  -13.85298122289925 ... -4.0542893716753605   0.4481019617459442\n",
       "4150377879113471488 269.44596151182793 -13.402757781543043 ... -4.9579679292971095   0.4073230672830835\n",
       "4150334993864716416  270.6269860649764 -12.909479355615359 ...  -4.018306282863701   0.0941558401274212"
      ]
     },
     "execution_count": 16,
     "metadata": {},
     "output_type": "execute_result"
    }
   ],
   "source": [
    "results = job.get_results()\n",
    "results\n"
   ]
  },
  {
   "cell_type": "markdown",
   "metadata": {},
   "source": [
    "You might notice that some values of parallax are negative. Negative parallaxes in Gaia are caused by errors in the observations, thus having no physical meaning. But, as can be found in the Gaia FAQ, they can be a useful diagnostic on the quality of the astrometric solution."
   ]
  },
  {
   "cell_type": "markdown",
   "metadata": {},
   "source": [
    "### Operators\n",
    "\n",
    "Within a `WHERE` clause, you can use any of the SQL comparison operators. These are the most common ones:\n",
    "\n",
    "\n",
    "`>` greater than\n",
    "`<` less than\n",
    "`>=` greater than or equal\n",
    "`<=` less than or equal\n",
    "`=` equal\n",
    "`!=` or `<>` not equal\n",
    "\n",
    "As we deal here with Python and with ADQL, it is important to notice that some operators are different. In particular, notice that the equality operator in ADQL is `=`, not `==` as in Python.\n",
    "\n",
    "Logical operators like the above can be combined to create more complex `WHERE` clauses."
   ]
  },
  {
   "cell_type": "markdown",
   "metadata": {},
   "source": [
    "**Exercise:** Modify the previous query to select rows where `bp_rp` is between -0.75 and 2.\n",
    "\n",
    "Background: Selecting stars with `bp-rp` less than 2 excludes many class M dwarf stars, which are low temperature, low luminosity. A star like that at the distance of GD-1 would be hard to detect, so if it is detected, it it more likely to be in the foreground."
   ]
  },
  {
   "cell_type": "code",
   "execution_count": null,
   "metadata": {},
   "outputs": [],
   "source": [
    "\n",
    "\n"
   ]
  },
  {
   "cell_type": "markdown",
   "metadata": {},
   "source": [
    "## 5. Best Practices <a class=\"anchor\" id=\"fifth-bullet\"></a>\n",
    "\n",
    "\n",
    "If it's not possible (or not practical) to download an entire dataset, use queries to select the data you need.\n",
    "\n",
    "Reading te documentation and metadata is essential to make sure you understand the table structure, their content and their meaning.\n",
    "\n",
    "Like each kind of code, queries should be developed incrementally: start with something simple, test it, and add a little bit at a time.\n",
    "\n",
    "Always use ADQL features like TOP and COUNT to test before you run a query that might return a lot of data.\n",
    "\n",
    "If you know your query will return fewer than 2000 rows, you can run it synchronously, which might complete faster. If it might return more than 2000 rows, you should run it asynchronously.\n",
    "\n",
    "Despite ADQL and SQL are not case-sensitive and don't require line breaks, you should capitalize the keywords and break a query into multiple lines, both for reasons of readability.\n",
    "\n",
    "\n",
    "Finally: We use here Juypyter notebooks. They are a good way for presenting, developing and testing code, but real productive code should be run as a script, not as a Jupyter notebook.\n",
    "\n",
    "\n"
   ]
  },
  {
   "cell_type": "code",
   "execution_count": null,
   "metadata": {},
   "outputs": [],
   "source": []
  },
  {
   "cell_type": "markdown",
   "metadata": {
    "slideshow": {
     "slide_type": "slide"
    }
   },
   "source": [
    "## Summary <a class=\"anchor\" id=\"sixth-bullet\"></a>\n",
    "\n",
    "In this lession, we have seen how to work with coordinates, both for transforming on-sky coordinates and plotting them, as well as for observing planning.\n",
    "Both aspects are especially valuable and they often even work together, e.g. for planning follow-up observations for objects already observed.\n",
    "\n",
    "\n",
    "In this lession, we have also learnt how to to work with data from Gaia.\n",
    "\n",
    "This notebook demonstrates the following steps:\n",
    "\n",
    "* Making a connection to the Gaia server\n",
    "* Exploring information about the database and the tables it contains\n",
    "* Writing a query and sending it to the server\n",
    "* Downloading the response from the server as an Astropy Table.\n",
    "\n"
   ]
  },
  {
   "cell_type": "code",
   "execution_count": null,
   "metadata": {},
   "outputs": [],
   "source": []
  }
 ],
 "metadata": {
  "anaconda-cloud": {},
  "kernelspec": {
   "display_name": "Python 3 (ipykernel)",
   "language": "python",
   "name": "python3"
  },
  "language_info": {
   "codemirror_mode": {
    "name": "ipython",
    "version": 3
   },
   "file_extension": ".py",
   "mimetype": "text/x-python",
   "name": "python",
   "nbconvert_exporter": "python",
   "pygments_lexer": "ipython3",
   "version": "3.10.12"
  }
 },
 "nbformat": 4,
 "nbformat_minor": 1
}
